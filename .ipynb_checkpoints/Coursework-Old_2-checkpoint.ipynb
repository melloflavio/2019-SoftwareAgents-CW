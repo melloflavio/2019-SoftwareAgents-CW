{
 "cells": [
  {
   "cell_type": "code",
   "execution_count": 2,
   "metadata": {},
   "outputs": [],
   "source": [
    "import numpy as np\n",
    "# import json\n",
    "# import csv\n",
    "# import collections\n",
    "import pydash as _\n",
    "import itertools\n",
    "from enum import Enum, unique\n",
    "import time\n",
    "from datetime import timedelta\n",
    "\n",
    "\n",
    "@unique\n",
    "class ACTION(Enum):\n",
    "    UP = 1\n",
    "    RIGHT = 2\n",
    "    DOWN = 3\n",
    "    LEFT = 4"
   ]
  },
  {
   "cell_type": "code",
   "execution_count": 7,
   "metadata": {},
   "outputs": [
    {
     "data": {
      "text/plain": [
       "array([[1, 1, 0, 0, 1, 0, 0],\n",
       "       [1, 0, 1, 1, 0, 1, 1],\n",
       "       [1, 1, 0, 1, 0, 0, 1],\n",
       "       [1, 0, 1, 0, 1, 1, 0],\n",
       "       [1, 1, 1, 0, 0, 0, 1],\n",
       "       [0, 1, 0, 0, 0, 0, 0],\n",
       "       [0, 0, 0, 0, 1, 0, 0]])"
      ]
     },
     "execution_count": 7,
     "metadata": {},
     "output_type": "execute_result"
    }
   ],
   "source": [
    "BOARD_SIZE = (7,7) # NxN board\n",
    "BOARD_WIDTH = BOARD_SIZE[0]\n",
    "BOARD_HEIGHT = BOARD_SIZE[1]\n",
    "\n",
    "board = map_matrix = np.random.randint(low=0, high=2, size=BOARD_SIZE)\n",
    "board"
   ]
  },
  {
   "cell_type": "code",
   "execution_count": 19,
   "metadata": {},
   "outputs": [
    {
     "name": "stdout",
     "output_type": "stream",
     "text": [
      "location: 30 => (4, 2)\n",
      "location: (4, 2) => 30\n"
     ]
    }
   ],
   "source": [
    "def location_int_to_tuple(location):\n",
    "    if location >= BOARD_SIZE[0]*BOARD_SIZE[1]:\n",
    "        raise ValueError('location outside maze')\n",
    "    row = int(location/BOARD_WIDTH)\n",
    "    col = int(location%BOARD_WIDTH)\n",
    "    return (row, col)\n",
    "\n",
    "print('location: {} => {}'.format(30, location_int_to_tuple(30)))\n",
    "\n",
    "def location_tuple_to_int(location):\n",
    "    (row, col) = location\n",
    "    location_int = (row*BOARD_WIDTH+col)\n",
    "    if location_int >= BOARD_SIZE[0]*BOARD_SIZE[1]:\n",
    "        raise ValueError('location outside maze')\n",
    "    return location_int\n",
    "\n",
    "print('location: {} => {}'.format((4,2), location_tuple_to_int((4,2))))\n",
    "\n",
    "\n",
    "def get_future_position_for_action(previous_location, action):\n",
    "    (current_row, current_col) = location_int_to_tuple(previous_location)\n",
    "    \n",
    "    if (action == ACTION.UP):\n",
    "        (next_row, next_col) = (current_row-1, current_col)\n",
    "    elif (action == ACTION.RIGHT):\n",
    "        (next_row, next_col) = (current_row, current_col+1)\n",
    "    elif (action == ACTION.DOWN):\n",
    "        (next_row, next_col) = (current_row+1, current_col)\n",
    "    elif (action == ACTION.LEFT):\n",
    "        (next_row, next_col) = (current_row, current_col-1)\n",
    "    \n",
    "#     If out of bounds, remain in the same place.\n",
    "    if (\n",
    "        next_row < 0 \n",
    "        or next_row >= BOARD_HEIGHT \n",
    "        or next_col < 0 \n",
    "        or next_col >= BOARD_WIDTH\n",
    "    ):\n",
    "        (next_row, next_col) = (current_row, current_col)"
   ]
  },
  {
   "cell_type": "code",
   "execution_count": null,
   "metadata": {},
   "outputs": [],
   "source": []
  }
 ],
 "metadata": {
  "kernelspec": {
   "display_name": "Python 3",
   "language": "python",
   "name": "python3"
  },
  "language_info": {
   "codemirror_mode": {
    "name": "ipython",
    "version": 3
   },
   "file_extension": ".py",
   "mimetype": "text/x-python",
   "name": "python",
   "nbconvert_exporter": "python",
   "pygments_lexer": "ipython3",
   "version": "3.6.5"
  }
 },
 "nbformat": 4,
 "nbformat_minor": 2
}
