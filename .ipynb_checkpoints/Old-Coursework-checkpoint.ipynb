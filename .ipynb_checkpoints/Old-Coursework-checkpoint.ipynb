{
 "cells": [
  {
   "cell_type": "code",
   "execution_count": 36,
   "metadata": {},
   "outputs": [],
   "source": [
    "import numpy as np\n",
    "# import json\n",
    "# import csv\n",
    "# import collections\n",
    "import pydash as _\n",
    "import itertools\n",
    "from enum import Enum, unique\n",
    "import time\n",
    "from datetime import timedelta\n",
    "\n",
    "\n",
    "@unique\n",
    "class ACTION(Enum):\n",
    "    UP = 1\n",
    "    RIGHT = 2\n",
    "    DOWN = 3\n",
    "    LEFT = 4"
   ]
  },
  {
   "cell_type": "code",
   "execution_count": 40,
   "metadata": {},
   "outputs": [
    {
     "data": {
      "text/plain": [
       "{('0', '0', '0', '1', '2'),\n",
       " ('0', '0', '0', '2', '1'),\n",
       " ('0', '0', '1', '0', '2'),\n",
       " ('0', '0', '1', '2', '0'),\n",
       " ('0', '0', '2', '0', '1'),\n",
       " ('0', '0', '2', '1', '0'),\n",
       " ('0', '1', '0', '0', '2'),\n",
       " ('0', '1', '0', '2', '0'),\n",
       " ('0', '1', '2', '0', '0'),\n",
       " ('0', '2', '0', '0', '1'),\n",
       " ('0', '2', '0', '1', '0'),\n",
       " ('0', '2', '1', '0', '0'),\n",
       " ('1', '0', '0', '0', '2'),\n",
       " ('1', '0', '0', '2', '0'),\n",
       " ('1', '0', '2', '0', '0'),\n",
       " ('1', '2', '0', '0', '0'),\n",
       " ('2', '0', '0', '0', '1'),\n",
       " ('2', '0', '0', '1', '0'),\n",
       " ('2', '0', '1', '0', '0'),\n",
       " ('2', '1', '0', '0', '0')}"
      ]
     },
     "execution_count": 40,
     "metadata": {},
     "output_type": "execute_result"
    }
   ],
   "source": [
    "s = itertools.permutations('12000')\n",
    "set(s)"
   ]
  },
  {
   "cell_type": "code",
   "execution_count": 5,
   "metadata": {},
   "outputs": [],
   "source": [
    "BOARD_SIZE = 3 # NxN board"
   ]
  },
  {
   "cell_type": "code",
   "execution_count": 15,
   "metadata": {},
   "outputs": [
    {
     "data": {
      "text/plain": [
       "array([['1', '2', '3'],\n",
       "       ['4', '5', '6'],\n",
       "       ['7', '8', '0']], dtype='<U1')"
      ]
     },
     "execution_count": 15,
     "metadata": {},
     "output_type": "execute_result"
    }
   ],
   "source": [
    "# Given a string, turn it into matrix form\n",
    "def get_state_matrix(state_string):\n",
    "    if len(state_string) != BOARD_SIZE**2:\n",
    "        raise ValueError('State String incompatible with board size')\n",
    "    state_chars = list(state_string)\n",
    "    matrix = np.reshape(state_chars, (BOARD_SIZE, BOARD_SIZE))\n",
    "    return matrix\n",
    "\n",
    "\n",
    "matrix = get_state_matrix('123456780')\n",
    "matrix"
   ]
  },
  {
   "cell_type": "code",
   "execution_count": 34,
   "metadata": {},
   "outputs": [
    {
     "data": {
      "text/plain": [
       "'123456780'"
      ]
     },
     "execution_count": 34,
     "metadata": {},
     "output_type": "execute_result"
    }
   ],
   "source": [
    "# Given a string, turn it into matrix form\n",
    "def get_state_string(state_matrix):\n",
    "    state_matrix = np.asarray(state_matrix)\n",
    "    if np.shape(state_matrix) != (BOARD_SIZE, BOARD_SIZE) :\n",
    "        raise ValueError('State Matrix incompatible with board size')\n",
    "    state_matrix = state_matrix.flatten()\n",
    "    state_string = ''.join(state_matrix)\n",
    "    return state_string\n",
    "\n",
    "\n",
    "string = get_state_string([['1', '2', '3'],['4', '5', '6'],['7', '8', '0']])\n",
    "string"
   ]
  },
  {
   "cell_type": "code",
   "execution_count": 30,
   "metadata": {},
   "outputs": [
    {
     "data": {
      "text/plain": [
       "array(['1', '2', '3', '4', '5', '6', '7', '8', '0'], dtype='<U1')"
      ]
     },
     "execution_count": 30,
     "metadata": {},
     "output_type": "execute_result"
    }
   ],
   "source": []
  },
  {
   "cell_type": "code",
   "execution_count": null,
   "metadata": {},
   "outputs": [],
   "source": []
  },
  {
   "cell_type": "code",
   "execution_count": null,
   "metadata": {},
   "outputs": [],
   "source": []
  },
  {
   "cell_type": "code",
   "execution_count": null,
   "metadata": {},
   "outputs": [],
   "source": []
  },
  {
   "cell_type": "code",
   "execution_count": null,
   "metadata": {},
   "outputs": [],
   "source": []
  },
  {
   "cell_type": "code",
   "execution_count": null,
   "metadata": {},
   "outputs": [],
   "source": []
  },
  {
   "cell_type": "code",
   "execution_count": null,
   "metadata": {},
   "outputs": [],
   "source": []
  },
  {
   "cell_type": "code",
   "execution_count": null,
   "metadata": {},
   "outputs": [],
   "source": []
  }
 ],
 "metadata": {
  "kernelspec": {
   "display_name": "Python 3",
   "language": "python",
   "name": "python3"
  },
  "language_info": {
   "codemirror_mode": {
    "name": "ipython",
    "version": 3
   },
   "file_extension": ".py",
   "mimetype": "text/x-python",
   "name": "python",
   "nbconvert_exporter": "python",
   "pygments_lexer": "ipython3",
   "version": "3.6.5"
  }
 },
 "nbformat": 4,
 "nbformat_minor": 2
}
