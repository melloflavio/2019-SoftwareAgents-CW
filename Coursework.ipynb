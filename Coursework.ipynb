{
 "cells": [
  {
   "cell_type": "code",
   "execution_count": 54,
   "metadata": {},
   "outputs": [],
   "source": [
    "import numpy as np\n",
    "# import json\n",
    "# import csv\n",
    "# import collections\n",
    "import pydash as _\n",
    "import itertools\n",
    "from enum import Enum, unique\n",
    "import time\n",
    "from datetime import timedelta\n",
    "import pandas as pd\n",
    "import matplotlib.pyplot as plt\n",
    "import random"
   ]
  },
  {
   "cell_type": "markdown",
   "metadata": {},
   "source": [
    "## 1. Board movement\n",
    "General board movement functions and definitions.\n",
    "The board matrix is framed and padded with `NaN` for easier manipulation of movements without the need to take into account out of bounds indexes.\n",
    "The location map object maps string indexes to board coordinates. Given that the board has only 6 playable spaces, any possible board configuration can be translated into a single 6 character string."
   ]
  },
  {
   "cell_type": "code",
   "execution_count": 55,
   "metadata": {},
   "outputs": [],
   "source": [
    "# Board & Movement constants\n",
    "BOARD_SIZE = (5,7) # NxN board\n",
    "BOARD_WIDTH = BOARD_SIZE[0]\n",
    "BOARD_HEIGHT = BOARD_SIZE[1]\n",
    "\n",
    "# Empty init to keep variables in global scope\n",
    "Q = [np.nan]\n",
    "R = [np.nan]\n",
    "\n",
    "# LOCATION_MAP = {\n",
    "#     0: (1,2),\n",
    "#     1: (2,1),\n",
    "#     2: (2,2),\n",
    "#     3: (2,3),\n",
    "#     4: (3,2),\n",
    "#     5: (4,2),\n",
    "#     6: (5,2),\n",
    "# }\n",
    "LOCATION_MAP = {\n",
    "    0: (2,1),\n",
    "    1: (1,2),\n",
    "    2: (2,2),\n",
    "    3: (3,2),\n",
    "    4: (2,3),\n",
    "    5: (2,4),\n",
    "    6: (2,5),\n",
    "}\n",
    "\n",
    "@unique\n",
    "class ACTION(Enum):\n",
    "    UP = 1\n",
    "    RIGHT = 2\n",
    "    DOWN = 3\n",
    "    LEFT = 4\n",
    "    STAY = 5"
   ]
  },
  {
   "cell_type": "markdown",
   "metadata": {},
   "source": [
    "### Board <=> State String transitions \n",
    "Calculating and performing movements is easier done with a matrix than an encoded string, thus the project relies on translating state strings into boards back and forth."
   ]
  },
  {
   "cell_type": "code",
   "execution_count": 56,
   "metadata": {},
   "outputs": [
    {
     "name": "stdout",
     "output_type": "stream",
     "text": [
      "Empty board: \n",
      "[[nan nan nan nan nan nan nan]\n",
      " [nan nan  0. nan nan nan nan]\n",
      " [nan  0.  0.  0.  0.  0. nan]\n",
      " [nan nan  0. nan nan nan nan]\n",
      " [nan nan nan nan nan nan nan]]\n",
      "\n",
      "\n",
      "Board for state 0000321: \n",
      "[[nan nan nan nan nan nan nan]\n",
      " [nan nan  0. nan nan nan nan]\n",
      " [nan  0.  0.  3.  2.  1. nan]\n",
      " [nan nan  0. nan nan nan nan]\n",
      " [nan nan nan nan nan nan nan]]\n",
      "\n",
      "\n",
      "State for board: \n",
      "[[nan nan nan nan nan nan nan]\n",
      " [nan nan  0. nan nan nan nan]\n",
      " [nan  1.  0.  0.  0.  0. nan]\n",
      " [nan nan  0. nan nan nan nan]\n",
      " [nan nan nan nan nan nan nan]] \n",
      "\n",
      "1000000\n"
     ]
    }
   ],
   "source": [
    "def get_empty_board():\n",
    "    empty_board = np.full(BOARD_SIZE, np.nan)\n",
    "    for loc_tuple in LOCATION_MAP.values():\n",
    "        empty_board[loc_tuple] = 0\n",
    "    return empty_board\n",
    "\n",
    "print('Empty board: \\n{}'.format(get_empty_board()))\n",
    "\n",
    "def get_board_for_state_string(state_string):\n",
    "    if(len(state_string) != len(LOCATION_MAP.values())):\n",
    "        raise ValueError('StateString size if invalid')\n",
    "    board = np.full(BOARD_SIZE, np.nan) # Start with empty board\n",
    "    state_tokens = list(state_string)\n",
    "    for location_idx, value in enumerate(state_tokens):\n",
    "        location_tuple = LOCATION_MAP[location_idx]\n",
    "        board[location_tuple] = value\n",
    "        \n",
    "    return board\n",
    "\n",
    "test_input = '0000321'\n",
    "print('\\n\\nBoard for state {}: \\n{}'.format(test_input, get_board_for_state_string(test_input)))\n",
    "\n",
    "\n",
    "def get_state_string_for_board(board):\n",
    "    \n",
    "    state_tokens = [np.nan]*len(LOCATION_MAP.values())\n",
    "    for (location_idx, location_tuple) in LOCATION_MAP.items():\n",
    "        state_tokens[location_idx] = str(int(board[location_tuple]))\n",
    "    \n",
    "    state_string = ''.join(state_tokens)\n",
    "    return state_string\n",
    "\n",
    "\n",
    "test_input = np.array([[np.nan, np.nan, np.nan, np.nan, np.nan, np.nan, np.nan],\n",
    "                       [np.nan, np.nan,   0.,   np.nan, np.nan, np.nan, np.nan],\n",
    "                       [np.nan,    1.,    0.,     0.,     0.,     0.,   np.nan],\n",
    "                       [np.nan, np.nan,   0.,   np.nan, np.nan, np.nan, np.nan],\n",
    "                       [np.nan, np.nan, np.nan, np.nan, np.nan, np.nan, np.nan]])\n",
    "print('\\n\\nState for board: \\n{} \\n\\n{}'.format(test_input, get_state_string_for_board(test_input)))"
   ]
  },
  {
   "cell_type": "markdown",
   "metadata": {},
   "source": [
    "## 2. State Transition & Reward\n",
    "\n",
    "By leveraging the state string to board transformations, we are able to calculate the possible movements for a given agent & execute said moves in a simple maner. Agents are able to move in the cardinal directions to adjacent open spaces. As an alternative, the agent always has the option of staying in place. All combined, there are 5 possible valid movements an agent can make, but depending on its position, only a subset may be available."
   ]
  },
  {
   "cell_type": "code",
   "execution_count": 57,
   "metadata": {},
   "outputs": [
    {
     "name": "stdout",
     "output_type": "stream",
     "text": [
      "Terminal State: 0000001\n",
      "Random State: 0001000\n",
      "Possible States:\n",
      "  ['0010000', '0000100', '1000000', '0001000', '0000001', '0000010', '0100000']\n"
     ]
    }
   ],
   "source": [
    "# Terminal States manually selected for 1,2 and 3 agent variations\n",
    "def get_terminal_state(num_agents):\n",
    "    return   '0000001' if num_agents is 1 \\\n",
    "        else '0000021' if num_agents is 2 \\\n",
    "        else '0000321' if num_agents is 3 \\\n",
    "        else ''\n",
    "print('Terminal State: {}'.format(get_terminal_state(1)))\n",
    "\n",
    "\n",
    "def get_random_state(num_agents):\n",
    "    state = get_terminal_state(num_agents) # Start with terminal state\n",
    "    state = list(state) # Shuffle requires an array as input\n",
    "    random.shuffle(state)\n",
    "    state = ''.join(state) # Back into a single string\n",
    "    return state\n",
    "\n",
    "print('Random State: {}'.format(get_random_state(1)))\n",
    "\n",
    "# Returns all possible states that can be reached given a number of agents in the board\n",
    "def get_possible_states(num_agents):\n",
    "    terminal_state = get_terminal_state(num_agents)\n",
    "    \n",
    "    possible_states = set(itertools.permutations(terminal_state)) # All UNIQUE permutations\n",
    "    possible_states = [''.join(state) for state in possible_states] # itertools returns arrays of chars, joining into complete strings\n",
    "    return possible_states\n",
    "\n",
    "print('Possible States:\\n  {}'.format(get_possible_states(1)))"
   ]
  },
  {
   "cell_type": "code",
   "execution_count": 58,
   "metadata": {},
   "outputs": [
    {
     "name": "stdout",
     "output_type": "stream",
     "text": [
      "Move from State: 1000000 + ACTION.DOWN => Resulting state: 1000000\n",
      "Available destinations from 1000000: ['0010000', '1000000']\n"
     ]
    }
   ],
   "source": [
    "# If the destination is not valid (i.e. not an open space), the function returns the current position as next_state\n",
    "\n",
    "def move_agent(state_string, agent_id, action):\n",
    "    agent_location = state_string.find(str(agent_id))\n",
    "    (row, col) = LOCATION_MAP[agent_location]\n",
    "    board = get_board_for_state_string(state_string)\n",
    "    if (action == ACTION.UP and board[(row-1,col)] == 0):\n",
    "        board[(row-1,col)] = agent_id\n",
    "        board[(row,col)] = 0\n",
    "        return get_state_string_for_board(board)\n",
    "    elif (action == ACTION.RIGHT and board[(row,col+1)] == 0):\n",
    "        board[(row,col+1)] = agent_id\n",
    "        board[(row,col)] = 0\n",
    "        return get_state_string_for_board(board)\n",
    "    elif (action == ACTION.DOWN and board[(row+1,col)] == 0):\n",
    "        board[(row+1,col)] = agent_id\n",
    "        board[(row,col)] = 0\n",
    "        return get_state_string_for_board(board)\n",
    "    elif (action == ACTION.LEFT and board[(row,col-1)] == 0):\n",
    "        board[(row,col-1)] = agent_id\n",
    "        board[(row,col)] = 0\n",
    "        return get_state_string_for_board(board)\n",
    "    else: # Either ACTION.STAY or unnable to execute move\n",
    "        return get_state_string_for_board(board)\n",
    "\n",
    "print('Move from State: {} + {} => Resulting state: {}'.format('1000000', ACTION.DOWN, move_agent('1000000', 1, ACTION.DOWN)))\n",
    "\n",
    "def get_available_moves(state_string, agent_id):\n",
    "    moves = [move_agent(state_string, agent_id, action) for action in ACTION]\n",
    "    unique_moves = list(set(moves))\n",
    "    return unique_moves\n",
    "\n",
    "print('Available destinations from 1000000: {}'.format(get_available_moves('1000000', 1)))"
   ]
  },
  {
   "cell_type": "markdown",
   "metadata": {},
   "source": [
    "### Transition Matrix \n",
    "The transition matrix maps origin states (rows) into destination states (columns). Thus it is a NxN matrix, N being the number of possible states. Invalid transitions are represented as `NaN` values for a given tuple, while possible transitions are represented as `0`.\n",
    "\n",
    "Having the default value being `0` also serves a purpose of reutilizing the generated transition matrix as the basis for the R matrix."
   ]
  },
  {
   "cell_type": "code",
   "execution_count": 59,
   "metadata": {
    "scrolled": true
   },
   "outputs": [
    {
     "data": {
      "text/html": [
       "<div>\n",
       "<style scoped>\n",
       "    .dataframe tbody tr th:only-of-type {\n",
       "        vertical-align: middle;\n",
       "    }\n",
       "\n",
       "    .dataframe tbody tr th {\n",
       "        vertical-align: top;\n",
       "    }\n",
       "\n",
       "    .dataframe thead th {\n",
       "        text-align: right;\n",
       "    }\n",
       "</style>\n",
       "<table border=\"1\" class=\"dataframe\">\n",
       "  <thead>\n",
       "    <tr style=\"text-align: right;\">\n",
       "      <th></th>\n",
       "      <th>0010000</th>\n",
       "      <th>0000100</th>\n",
       "      <th>1000000</th>\n",
       "      <th>0001000</th>\n",
       "      <th>0000001</th>\n",
       "      <th>0000010</th>\n",
       "      <th>0100000</th>\n",
       "    </tr>\n",
       "    <tr>\n",
       "      <th>state</th>\n",
       "      <th></th>\n",
       "      <th></th>\n",
       "      <th></th>\n",
       "      <th></th>\n",
       "      <th></th>\n",
       "      <th></th>\n",
       "      <th></th>\n",
       "    </tr>\n",
       "  </thead>\n",
       "  <tbody>\n",
       "    <tr>\n",
       "      <th>0010000</th>\n",
       "      <td>0.0</td>\n",
       "      <td>0.0</td>\n",
       "      <td>0.0</td>\n",
       "      <td>0.0</td>\n",
       "      <td>NaN</td>\n",
       "      <td>NaN</td>\n",
       "      <td>0.0</td>\n",
       "    </tr>\n",
       "    <tr>\n",
       "      <th>0000100</th>\n",
       "      <td>0.0</td>\n",
       "      <td>0.0</td>\n",
       "      <td>NaN</td>\n",
       "      <td>NaN</td>\n",
       "      <td>NaN</td>\n",
       "      <td>0.0</td>\n",
       "      <td>NaN</td>\n",
       "    </tr>\n",
       "    <tr>\n",
       "      <th>1000000</th>\n",
       "      <td>0.0</td>\n",
       "      <td>NaN</td>\n",
       "      <td>0.0</td>\n",
       "      <td>NaN</td>\n",
       "      <td>NaN</td>\n",
       "      <td>NaN</td>\n",
       "      <td>NaN</td>\n",
       "    </tr>\n",
       "    <tr>\n",
       "      <th>0001000</th>\n",
       "      <td>0.0</td>\n",
       "      <td>NaN</td>\n",
       "      <td>NaN</td>\n",
       "      <td>0.0</td>\n",
       "      <td>NaN</td>\n",
       "      <td>NaN</td>\n",
       "      <td>NaN</td>\n",
       "    </tr>\n",
       "    <tr>\n",
       "      <th>0000001</th>\n",
       "      <td>NaN</td>\n",
       "      <td>NaN</td>\n",
       "      <td>NaN</td>\n",
       "      <td>NaN</td>\n",
       "      <td>0.0</td>\n",
       "      <td>0.0</td>\n",
       "      <td>NaN</td>\n",
       "    </tr>\n",
       "    <tr>\n",
       "      <th>0000010</th>\n",
       "      <td>NaN</td>\n",
       "      <td>0.0</td>\n",
       "      <td>NaN</td>\n",
       "      <td>NaN</td>\n",
       "      <td>0.0</td>\n",
       "      <td>0.0</td>\n",
       "      <td>NaN</td>\n",
       "    </tr>\n",
       "    <tr>\n",
       "      <th>0100000</th>\n",
       "      <td>0.0</td>\n",
       "      <td>NaN</td>\n",
       "      <td>NaN</td>\n",
       "      <td>NaN</td>\n",
       "      <td>NaN</td>\n",
       "      <td>NaN</td>\n",
       "      <td>0.0</td>\n",
       "    </tr>\n",
       "  </tbody>\n",
       "</table>\n",
       "</div>"
      ],
      "text/plain": [
       "         0010000  0000100  1000000  0001000  0000001  0000010  0100000\n",
       "state                                                                 \n",
       "0010000      0.0      0.0      0.0      0.0      NaN      NaN      0.0\n",
       "0000100      0.0      0.0      NaN      NaN      NaN      0.0      NaN\n",
       "1000000      0.0      NaN      0.0      NaN      NaN      NaN      NaN\n",
       "0001000      0.0      NaN      NaN      0.0      NaN      NaN      NaN\n",
       "0000001      NaN      NaN      NaN      NaN      0.0      0.0      NaN\n",
       "0000010      NaN      0.0      NaN      NaN      0.0      0.0      NaN\n",
       "0100000      0.0      NaN      NaN      NaN      NaN      NaN      0.0"
      ]
     },
     "execution_count": 59,
     "metadata": {},
     "output_type": "execute_result"
    }
   ],
   "source": [
    "def generate_transition_matrix(agent_id, num_agents):\n",
    "    if (agent_id > num_agents):\n",
    "        raise ValueError('Invalid Agent_Id')\n",
    "    possible_states = get_possible_states(num_agents)\n",
    "    \n",
    "#   Generate blank NxN Dataframe with all possible states as rows & columns\n",
    "    df = pd.DataFrame({'state': possible_states,\n",
    "                        **{state: np.nan for state in possible_states}\n",
    "                       })\n",
    "    df.set_index('state', inplace=True)\n",
    "    \n",
    "#   Fill in possible transitions with 0\n",
    "    for state_string in possible_states:\n",
    "        available_moves = get_available_moves(state_string, agent_id)\n",
    "        df.loc[state_string, available_moves] = 0\n",
    "    \n",
    "    return df\n",
    "    \n",
    "generate_transition_matrix(agent_id=1, num_agents=1)"
   ]
  },
  {
   "cell_type": "markdown",
   "metadata": {},
   "source": [
    "### R-Matrix and reward function\n",
    "Given that each agent has slightly different transition functions, the reward function also difrs by agent. Although the same general rule applies. Agents are awarded 100 points for any transition that takes them to the desired terminal state, and they are penalized 100 points for any transition that takes them away from it. Any other transition is given no reward.\n",
    "\n",
    "For generating the R-matrix, the program simply starts with the transition matrix, and fills the relevant transitions with either `-100` or `100` accordingly"
   ]
  },
  {
   "cell_type": "code",
   "execution_count": 60,
   "metadata": {},
   "outputs": [
    {
     "data": {
      "text/html": [
       "<div>\n",
       "<style scoped>\n",
       "    .dataframe tbody tr th:only-of-type {\n",
       "        vertical-align: middle;\n",
       "    }\n",
       "\n",
       "    .dataframe tbody tr th {\n",
       "        vertical-align: top;\n",
       "    }\n",
       "\n",
       "    .dataframe thead th {\n",
       "        text-align: right;\n",
       "    }\n",
       "</style>\n",
       "<table border=\"1\" class=\"dataframe\">\n",
       "  <thead>\n",
       "    <tr style=\"text-align: right;\">\n",
       "      <th></th>\n",
       "      <th>0010000</th>\n",
       "      <th>0000100</th>\n",
       "      <th>1000000</th>\n",
       "      <th>0001000</th>\n",
       "      <th>0000001</th>\n",
       "      <th>0000010</th>\n",
       "      <th>0100000</th>\n",
       "    </tr>\n",
       "    <tr>\n",
       "      <th>state</th>\n",
       "      <th></th>\n",
       "      <th></th>\n",
       "      <th></th>\n",
       "      <th></th>\n",
       "      <th></th>\n",
       "      <th></th>\n",
       "      <th></th>\n",
       "    </tr>\n",
       "  </thead>\n",
       "  <tbody>\n",
       "    <tr>\n",
       "      <th>0010000</th>\n",
       "      <td>0.0</td>\n",
       "      <td>0.0</td>\n",
       "      <td>0.0</td>\n",
       "      <td>0.0</td>\n",
       "      <td>NaN</td>\n",
       "      <td>NaN</td>\n",
       "      <td>0.0</td>\n",
       "    </tr>\n",
       "    <tr>\n",
       "      <th>0000100</th>\n",
       "      <td>0.0</td>\n",
       "      <td>0.0</td>\n",
       "      <td>NaN</td>\n",
       "      <td>NaN</td>\n",
       "      <td>NaN</td>\n",
       "      <td>0.0</td>\n",
       "      <td>NaN</td>\n",
       "    </tr>\n",
       "    <tr>\n",
       "      <th>1000000</th>\n",
       "      <td>0.0</td>\n",
       "      <td>NaN</td>\n",
       "      <td>0.0</td>\n",
       "      <td>NaN</td>\n",
       "      <td>NaN</td>\n",
       "      <td>NaN</td>\n",
       "      <td>NaN</td>\n",
       "    </tr>\n",
       "    <tr>\n",
       "      <th>0001000</th>\n",
       "      <td>0.0</td>\n",
       "      <td>NaN</td>\n",
       "      <td>NaN</td>\n",
       "      <td>0.0</td>\n",
       "      <td>NaN</td>\n",
       "      <td>NaN</td>\n",
       "      <td>NaN</td>\n",
       "    </tr>\n",
       "    <tr>\n",
       "      <th>0000001</th>\n",
       "      <td>NaN</td>\n",
       "      <td>NaN</td>\n",
       "      <td>NaN</td>\n",
       "      <td>NaN</td>\n",
       "      <td>100.0</td>\n",
       "      <td>-100.0</td>\n",
       "      <td>NaN</td>\n",
       "    </tr>\n",
       "    <tr>\n",
       "      <th>0000010</th>\n",
       "      <td>NaN</td>\n",
       "      <td>0.0</td>\n",
       "      <td>NaN</td>\n",
       "      <td>NaN</td>\n",
       "      <td>100.0</td>\n",
       "      <td>0.0</td>\n",
       "      <td>NaN</td>\n",
       "    </tr>\n",
       "    <tr>\n",
       "      <th>0100000</th>\n",
       "      <td>0.0</td>\n",
       "      <td>NaN</td>\n",
       "      <td>NaN</td>\n",
       "      <td>NaN</td>\n",
       "      <td>NaN</td>\n",
       "      <td>NaN</td>\n",
       "      <td>0.0</td>\n",
       "    </tr>\n",
       "  </tbody>\n",
       "</table>\n",
       "</div>"
      ],
      "text/plain": [
       "         0010000  0000100  1000000  0001000  0000001  0000010  0100000\n",
       "state                                                                 \n",
       "0010000      0.0      0.0      0.0      0.0      NaN      NaN      0.0\n",
       "0000100      0.0      0.0      NaN      NaN      NaN      0.0      NaN\n",
       "1000000      0.0      NaN      0.0      NaN      NaN      NaN      NaN\n",
       "0001000      0.0      NaN      NaN      0.0      NaN      NaN      NaN\n",
       "0000001      NaN      NaN      NaN      NaN    100.0   -100.0      NaN\n",
       "0000010      NaN      0.0      NaN      NaN    100.0      0.0      NaN\n",
       "0100000      0.0      NaN      NaN      NaN      NaN      NaN      0.0"
      ]
     },
     "execution_count": 60,
     "metadata": {},
     "output_type": "execute_result"
    }
   ],
   "source": [
    "def generate_reward_matrix(agent_id, num_agents):\n",
    "    reward = EXPERIMENT['return']\n",
    "    penalty = EXPERIMENT['penalty']\n",
    "#     Start with Transistion Matrix which already has 0 for all transitions\n",
    "    reward_matrix = generate_transition_matrix(agent_id, num_agents)\n",
    "    \n",
    "#     Set reward at possible transitions to terminal state\n",
    "    terminal_state = get_terminal_state(num_agents)\n",
    "    possible_origins = get_available_moves(terminal_state, agent_id) # Destinations & Origins are symmetric\n",
    "    reward_matrix.loc[terminal_state, possible_origins] = penalty # Moves going out of terminal state are penlized by 100\n",
    "    reward_matrix.loc[possible_origins, terminal_state] = reward # Moves going into terminal state are rewarded 100\n",
    "    return reward_matrix\n",
    "\n",
    "generate_reward_matrix(agent_id=1, num_agents=1)"
   ]
  },
  {
   "cell_type": "code",
   "execution_count": null,
   "metadata": {},
   "outputs": [],
   "source": []
  },
  {
   "cell_type": "code",
   "execution_count": 61,
   "metadata": {},
   "outputs": [],
   "source": [
    "def initialize_tables(num_agents):\n",
    "    # Each agent has its own Q and R tables\n",
    "    Q = {agent_id: generate_transition_matrix(agent_id, num_agents) for agent_id in get_agent_ids()}\n",
    "    R = {agent_id: generate_reward_matrix(agent_id, num_agents) for agent_id in get_agent_ids()}\n",
    "    return (Q, R)\n",
    "    \n",
    "(Q, R) = initialize_tables(1)"
   ]
  },
  {
   "cell_type": "markdown",
   "metadata": {},
   "source": [
    "## 5 Parameter Setting\n",
    "The learning parameters are defined below as a globally scoped variable to enable ease of access by the methods lying in multiple layers of abstraction."
   ]
  },
  {
   "cell_type": "code",
   "execution_count": 62,
   "metadata": {},
   "outputs": [],
   "source": [
    "EXPERIMENT = {\n",
    "    'num_agents': 1,        # ∈ {1,2,3}\n",
    "    'num_episodes': 10000,    # Number of episodes the experiment lasts\n",
    "    'max_steps': 30,       # Max steps per episode\n",
    "    'epsilon': {\n",
    "        'initial_value': 0.999,\n",
    "        'decay_rate_1': 0.999,  # Decay if e >= threshold\n",
    "        'decay_rate_2': 0.99,   # Decay if e < threshold\n",
    "        'decay_rate_threshold': 0.5,\n",
    "    },\n",
    "    'alpha': 0.5, # learning rate\n",
    "    'gamma': 0.5, # dicount factor\n",
    "    'return': 100, # Return for moving into terminal state\n",
    "    'penalty': -100, # Punishment for leaving terminal state\n",
    "}\n",
    "\n",
    "# Helper function to allow for agent id enumeration\n",
    "def get_agent_ids():\n",
    "    return range(1, EXPERIMENT['num_agents']+1)"
   ]
  },
  {
   "cell_type": "markdown",
   "metadata": {},
   "source": [
    "## 6 Learning Episode\n",
    "Each learning episode starts with a random state. Agents then take turns performing actions, observeing the punishment/reward given by their respective R-Matrix and updating their respective Q-Matrix accordingly.\n",
    "\n",
    "An episode ends when either a predefined number of steps are taken(configurable in the experiment parameters), or the terminal state is reached. One detail that is important to stress is that the terminal state is only considered as reached when every single agent has perfomed an action that results in reaching that state, thus collecting its reward."
   ]
  },
  {
   "cell_type": "code",
   "execution_count": 63,
   "metadata": {},
   "outputs": [
    {
     "data": {
      "text/plain": [
       "{'epsilon': 0.5,\n",
       " 'total_steps': 31,\n",
       " 'reward_1': 0.0,\n",
       " 'reward_total': 0.0,\n",
       " 'final_state': '0010000',\n",
       " 'did_reach_terminal': False}"
      ]
     },
     "execution_count": 63,
     "metadata": {},
     "output_type": "execute_result"
    }
   ],
   "source": [
    "def run_episode(epsilon):\n",
    "    # Episode strating values    \n",
    "    num_agents = EXPERIMENT['num_agents']\n",
    "    total_reward = 0 \n",
    "    agent_reward = {agent_id: 0 for agent_id in get_agent_ids()}\n",
    "    current_state = get_random_state(num_agents)\n",
    "    state_history = [current_state]\n",
    "    \n",
    "    while(not did_finish_episode(state_history)):\n",
    "        current_agent_id = (len(state_history) % num_agents) + 1 # agent_ids start at 1. Agents take turns performing actions\n",
    "        next_state = choose_next_state(current_state, current_agent_id, epsilon)\n",
    "        \n",
    "        earned_return = calculate_earned_reward(current_state, next_state, current_agent_id) # Determine return from R matrix for the agent taking action\n",
    "        update_q_matrix(current_state, next_state, current_agent_id, earned_return) # Update Q Matrix for the agent taking action\n",
    "        \n",
    "        # Update values for next loop pass\n",
    "        state_history.append(next_state)\n",
    "        current_state = next_state\n",
    "        agent_reward[current_agent_id] += earned_return\n",
    "        total_reward += earned_return\n",
    "        \n",
    "    did_reach_terminal = state_history[-1] == get_terminal_state(num_agents)\n",
    "    \n",
    "    return ({\n",
    "        'epsilon': epsilon,\n",
    "        'total_steps':len(state_history), \n",
    "        **{('reward_'+str(agent_id)): agent_reward[agent_id] for agent_id in get_agent_ids()},\n",
    "        'reward_total':total_reward,\n",
    "        'final_state': current_state, \n",
    "        'did_reach_terminal':did_reach_terminal\n",
    "    })\n",
    "\n",
    "def did_finish_episode(state_history):\n",
    "    current_step = len(state_history)\n",
    "    terminal_state = get_terminal_state(EXPERIMENT['num_agents'])\n",
    "    recent_history = state_history[-EXPERIMENT['num_agents']:]     # Ensures terminal state is reached only after ALL agents took one action after reaching it & gained their reward\n",
    "    \n",
    "    if (current_step > 1 and all(state == terminal_state for state in recent_history)):\n",
    "        return True\n",
    "    elif (current_step > EXPERIMENT['max_steps']): # Agent timeout. Finish episode by exhaustion\n",
    "        return True\n",
    "    else:\n",
    "        return False\n",
    "\n",
    "run_episode(0.5)"
   ]
  },
  {
   "cell_type": "markdown",
   "metadata": {},
   "source": [
    "## Q-Matrix update\n",
    "\n",
    "\n",
    "After each step, the Q matrix is updated according to the earned return and current Q-Matrix according to the following formula\n",
    "$$Q(s_{t},a_{t}) = Q(s_{t},a_{t}) + α*[r_{t+1}+γ*max_{a} Q(s_{t+1},a_{t+1}) - Q(s_{t},a_{t})]$$\n",
    "$$Q(s,a) = Q(s,a) + α*[r+γ*max_{a'} Q(s',a') - Q(s,a)]$$"
   ]
  },
  {
   "cell_type": "code",
   "execution_count": 64,
   "metadata": {},
   "outputs": [],
   "source": [
    "# Returns the RETURN in table R associated with transitioning from current to next state\n",
    "def calculate_earned_reward(current_state, next_state, current_agent_id):\n",
    "    current_r = R[current_agent_id] # Get current agent's R-matrix\n",
    "    earned_reward = current_r.loc[current_state, next_state]\n",
    "    return earned_reward\n",
    "\n",
    "def update_q_matrix(current_state, next_state, current_agent_id, earned_reward):\n",
    "    # Get alpha and gamma from experiment settings\n",
    "    alpha = EXPERIMENT['alpha']\n",
    "    gamma = EXPERIMENT['gamma']\n",
    "    \n",
    "    \n",
    "    current_q = Q[current_agent_id] # Get current agent's Q-matrix\n",
    "    old_expected_return = current_q.loc[current_state, next_state]\n",
    "    \n",
    "    possible_next_moves = get_available_moves(next_state, current_agent_id)\n",
    "    best_expected_return = max(current_q.loc[next_state, possible_next_moves])\n",
    "    \n",
    "    new_expected_return = old_expected_return + alpha * (earned_reward + gamma * best_expected_return - old_expected_return)\n",
    "    current_q.loc[current_state, next_state] = new_expected_return\n",
    "    \n",
    "    \n",
    "    "
   ]
  },
  {
   "cell_type": "markdown",
   "metadata": {},
   "source": [
    "## Epsilon update policy\n",
    "The ε-greedy policy determines that the agent is to explore (i.e. take a random action) with ε probability, and exploit (i.e. take the action which has the highest expected return as per the Q-matrix) with (1-ε) probability. A strategy for gradual refinement is to have a gradually decreasing ε value. This means that when there is more uncertainty (i.e. at the beginning of the experiment, when not much is known regarding the environment), the agent takes action randomly to gather feedback and \"understanding\" of the surrounding environment. Gradually, the more the agent knows regarding the environment,less often it takes random actions. This effectively has the result of directing the random exploration to regions surrounding the current action policy."
   ]
  },
  {
   "cell_type": "code",
   "execution_count": 65,
   "metadata": {},
   "outputs": [],
   "source": [
    "def choose_next_state(current_state, current_agent_id, epsilon):    \n",
    "    # exploit\n",
    "    if (random.random() >= epsilon):\n",
    "        current_q = Q[current_agent_id] # Get current agent's Q-matrix\n",
    "        max_expected_rewards = current_q.idxmax(axis=1) # Column index for max value in each row\n",
    "        return max_expected_rewards[current_state]\n",
    "        \n",
    "    # explore\n",
    "    else:\n",
    "        possible_moves = get_available_moves(current_state, current_agent_id)\n",
    "        return random.choice(possible_moves)\n"
   ]
  },
  {
   "cell_type": "code",
   "execution_count": 66,
   "metadata": {},
   "outputs": [],
   "source": [
    "def update_epsilon(epsilon):\n",
    "    if (epsilon >= EXPERIMENT['epsilon']['decay_rate_threshold']):\n",
    "        decay_rate = EXPERIMENT['epsilon']['decay_rate_1']\n",
    "    else:\n",
    "        decay_rate = EXPERIMENT['epsilon']['decay_rate_2']\n",
    "    return epsilon * decay_rate"
   ]
  },
  {
   "cell_type": "markdown",
   "metadata": {},
   "source": [
    "### Experiment\n",
    "\n",
    "An experiment is defined as a collection of learning episodes while using a defined set of parameters. After each learning episode, it's results are stored for later analysis, and the epsilon value is updated according to the epsilon greedy policy"
   ]
  },
  {
   "cell_type": "code",
   "execution_count": 67,
   "metadata": {},
   "outputs": [],
   "source": [
    "# Main Loop\n",
    "\n",
    "# Empty init to keep variables in global scope\n",
    "Q = np.nan\n",
    "R = np.nan\n",
    "\n",
    "def perform_experiment():\n",
    "    global Q\n",
    "    global R\n",
    "    (Q, R) = initialize_tables(EXPERIMENT['num_agents'])\n",
    "    \n",
    "    epsilon = EXPERIMENT['epsilon']['initial_value']\n",
    "    results = []\n",
    "    \n",
    "    for current_episode in range(EXPERIMENT['num_episodes']):\n",
    "        episode_result = run_episode(epsilon)\n",
    "        results.append({'episode': current_episode, **episode_result})\n",
    "        epsilon = update_epsilon(epsilon)\n",
    "\n",
    "        # Progress report\n",
    "        if (current_episode%(EXPERIMENT['num_episodes']/10) == 0):\n",
    "            progress = current_episode/EXPERIMENT['num_episodes']\n",
    "            progress_string = '{:02d}%  '.format(int(progress*100))\n",
    "            print(progress_string, end='')\n",
    "    \n",
    "    return results\n",
    "\n",
    "# perform_experiment()"
   ]
  },
  {
   "cell_type": "code",
   "execution_count": 102,
   "metadata": {},
   "outputs": [
    {
     "name": "stdout",
     "output_type": "stream",
     "text": [
      "00%  10%  20%  30%  40%  50%  60%  70%  80%  90%  "
     ]
    },
    {
     "data": {
      "text/plain": [
       "<Figure size 432x288 with 0 Axes>"
      ]
     },
     "metadata": {},
     "output_type": "display_data"
    },
    {
     "data": {
      "image/png": "[encoded data removed]",
      "text/plain": [
       "<Figure size 432x288 with 3 Axes>"
      ]
     },
     "metadata": {},
     "output_type": "display_data"
    },
    {
     "data": {
      "text/plain": [
       "<Figure size 432x288 with 0 Axes>"
      ]
     },
     "metadata": {},
     "output_type": "display_data"
    },
    {
     "data": {
      "image/png": "[encoded data removed]",
      "text/plain": [
       "<Figure size 432x288 with 2 Axes>"
      ]
     },
     "metadata": {},
     "output_type": "display_data"
    }
   ],
   "source": [
    "def show_results(experiment_results):\n",
    "    df = process_results(experiment_results)\n",
    "    \n",
    "#     Figure 1: Cumulative Win % and Epsilon vs Learning Episode\n",
    "    plot_performance_vs_epsilon(df, 1)\n",
    "    plot_total_return_rolling(df, 2)\n",
    "#     Figure 2: \n",
    "    \n",
    "\n",
    "\n",
    "def process_results(experiment_results):\n",
    "    df = pd.DataFrame.from_records(experiment_results)\n",
    "    for agent_id in get_agent_ids():\n",
    "        agent_id = str(agent_id)\n",
    "        df['rwd_'+agent_id] = df['reward_'+agent_id]/df['total_steps']\n",
    "    df['rwd_tot'] = df['reward_total']/df['total_steps']\n",
    "    df['cumulative win %'] = df['did_reach_terminal'].cumsum()/(df['episode']+1)\n",
    "#     s.rolling(3).sum()\n",
    "    \n",
    "    return df\n",
    "\n",
    "def plot_performance_vs_epsilon(df, figure_num):\n",
    "    plt.figure(figure_num); \n",
    "    x = df['episode']\n",
    "    y1 = df['cumulative win %']\n",
    "    y2 = df['epsilon']\n",
    "    y3 = df['did_reach_terminal'].rolling(20).sum()/20.0\n",
    "\n",
    "    fig, ax1 = plt.subplots()\n",
    "    \n",
    "    ax_color_1 = '#1b9e77'\n",
    "    ax_color_2 = '#7570b3'\n",
    "\n",
    "    ax2 = ax1.twinx()\n",
    "    ax3 = ax1.twinx()\n",
    "    ax1.plot(x, y1, color=ax_color_1)\n",
    "    ax2.plot(x, y2, color=ax_color_2)\n",
    "    ax3.plot(x, y3, color='r')\n",
    "\n",
    "    ax1.set_xlabel('Episodes', fontsize=12)\n",
    "    ax1.set_ylabel('Cumulative Win %', color=ax_color_1, fontsize=12)\n",
    "    ax2.set_ylabel('Epsilon', color=ax_color_2, fontsize=12)\n",
    "    plt.title('Cumulative Performance x Episodes', fontsize=14)\n",
    "\n",
    "    plt.show()\n",
    "    \n",
    "def plot_total_return_rolling(df, figure_num):\n",
    "    plt.figure(figure_num); \n",
    "    x = df['episode']\n",
    "    y1 = df['rwd_tot'].rolling(150).mean()\n",
    "    y2 = df['epsilon']\n",
    "\n",
    "    fig, ax1 = plt.subplots()\n",
    "    \n",
    "    ax_color_1 = '#1b9e77'\n",
    "    ax_color_2 = '#7570b3'\n",
    "\n",
    "    ax2 = ax1.twinx()\n",
    "    ax1.plot(x, y1, color=ax_color_1)\n",
    "    ax2.plot(x, y2, color=ax_color_2)\n",
    "\n",
    "    ax1.set_xlabel('Episodes', fontsize=12)\n",
    "    ax1.set_ylabel('Total Return/Total Steps - Moving Average(50)', color=ax_color_1, fontsize=12)\n",
    "    ax2.set_ylabel('Epsilon', color=ax_color_2, fontsize=12)\n",
    "    plt.title('Total Return x Episodes', fontsize=14)\n",
    "\n",
    "    plt.show()\n",
    "\n",
    "\n",
    "EXPERIMENT = {\n",
    "    'num_agents': 1,        # ∈ {1,2,3}\n",
    "    'num_episodes': 1000,    # Number of episodes the experiment lasts\n",
    "    'max_steps': 30,       # Max steps per episode\n",
    "    'epsilon': {\n",
    "        'initial_value': 0.999,\n",
    "        'decay_rate_1': 0.999,  # Decay if e >= threshold\n",
    "        'decay_rate_2': 0.99,   # Decay if e < threshold\n",
    "        'decay_rate_threshold': 0.5,\n",
    "    },\n",
    "    'alpha': 0.5, # learning rate\n",
    "    'gamma': 0.5, # dicount factor\n",
    "    'return': 100, # Return for moving into terminal state\n",
    "    'penalty': -100, # Punishment for leaving terminal state\n",
    "}\n",
    "test_input = perform_experiment()\n",
    "show_results(test_input)"
   ]
  },
  {
   "cell_type": "code",
   "execution_count": 344,
   "metadata": {},
   "outputs": [
    {
     "data": {
      "text/html": [
       "<div>\n",
       "<style scoped>\n",
       "    .dataframe tbody tr th:only-of-type {\n",
       "        vertical-align: middle;\n",
       "    }\n",
       "\n",
       "    .dataframe tbody tr th {\n",
       "        vertical-align: top;\n",
       "    }\n",
       "\n",
       "    .dataframe thead th {\n",
       "        text-align: right;\n",
       "    }\n",
       "</style>\n",
       "<table border=\"1\" class=\"dataframe\">\n",
       "  <thead>\n",
       "    <tr style=\"text-align: right;\">\n",
       "      <th></th>\n",
       "      <th>0000100</th>\n",
       "      <th>0000010</th>\n",
       "      <th>0001000</th>\n",
       "      <th>0000001</th>\n",
       "      <th>1000000</th>\n",
       "      <th>0100000</th>\n",
       "      <th>0010000</th>\n",
       "    </tr>\n",
       "    <tr>\n",
       "      <th>state</th>\n",
       "      <th></th>\n",
       "      <th></th>\n",
       "      <th></th>\n",
       "      <th></th>\n",
       "      <th></th>\n",
       "      <th></th>\n",
       "      <th></th>\n",
       "    </tr>\n",
       "  </thead>\n",
       "  <tbody>\n",
       "    <tr>\n",
       "      <th>0000100</th>\n",
       "      <td>50.0</td>\n",
       "      <td>100.00000</td>\n",
       "      <td>NaN</td>\n",
       "      <td>NaN</td>\n",
       "      <td>NaN</td>\n",
       "      <td>NaN</td>\n",
       "      <td>25.0</td>\n",
       "    </tr>\n",
       "    <tr>\n",
       "      <th>0000010</th>\n",
       "      <td>50.0</td>\n",
       "      <td>100.00000</td>\n",
       "      <td>NaN</td>\n",
       "      <td>200.0</td>\n",
       "      <td>NaN</td>\n",
       "      <td>NaN</td>\n",
       "      <td>NaN</td>\n",
       "    </tr>\n",
       "    <tr>\n",
       "      <th>0001000</th>\n",
       "      <td>NaN</td>\n",
       "      <td>NaN</td>\n",
       "      <td>12.499823</td>\n",
       "      <td>NaN</td>\n",
       "      <td>NaN</td>\n",
       "      <td>NaN</td>\n",
       "      <td>25.0</td>\n",
       "    </tr>\n",
       "    <tr>\n",
       "      <th>0000001</th>\n",
       "      <td>NaN</td>\n",
       "      <td>-0.00005</td>\n",
       "      <td>NaN</td>\n",
       "      <td>200.0</td>\n",
       "      <td>NaN</td>\n",
       "      <td>NaN</td>\n",
       "      <td>NaN</td>\n",
       "    </tr>\n",
       "    <tr>\n",
       "      <th>1000000</th>\n",
       "      <td>NaN</td>\n",
       "      <td>NaN</td>\n",
       "      <td>NaN</td>\n",
       "      <td>NaN</td>\n",
       "      <td>12.500000</td>\n",
       "      <td>NaN</td>\n",
       "      <td>25.0</td>\n",
       "    </tr>\n",
       "    <tr>\n",
       "      <th>0100000</th>\n",
       "      <td>NaN</td>\n",
       "      <td>NaN</td>\n",
       "      <td>NaN</td>\n",
       "      <td>NaN</td>\n",
       "      <td>NaN</td>\n",
       "      <td>12.499992</td>\n",
       "      <td>25.0</td>\n",
       "    </tr>\n",
       "    <tr>\n",
       "      <th>0010000</th>\n",
       "      <td>50.0</td>\n",
       "      <td>NaN</td>\n",
       "      <td>12.500000</td>\n",
       "      <td>NaN</td>\n",
       "      <td>12.499998</td>\n",
       "      <td>12.500000</td>\n",
       "      <td>25.0</td>\n",
       "    </tr>\n",
       "  </tbody>\n",
       "</table>\n",
       "</div>"
      ],
      "text/plain": [
       "         0000100    0000010    0001000  0000001    1000000    0100000  0010000\n",
       "state                                                                         \n",
       "0000100     50.0  100.00000        NaN      NaN        NaN        NaN     25.0\n",
       "0000010     50.0  100.00000        NaN    200.0        NaN        NaN      NaN\n",
       "0001000      NaN        NaN  12.499823      NaN        NaN        NaN     25.0\n",
       "0000001      NaN   -0.00005        NaN    200.0        NaN        NaN      NaN\n",
       "1000000      NaN        NaN        NaN      NaN  12.500000        NaN     25.0\n",
       "0100000      NaN        NaN        NaN      NaN        NaN  12.499992     25.0\n",
       "0010000     50.0        NaN  12.500000      NaN  12.499998  12.500000     25.0"
      ]
     },
     "execution_count": 344,
     "metadata": {},
     "output_type": "execute_result"
    }
   ],
   "source": [
    "Q[1]"
   ]
  },
  {
   "cell_type": "markdown",
   "metadata": {},
   "source": [
    "### EXP 1: 1 Agent"
   ]
  },
  {
   "cell_type": "code",
   "execution_count": 99,
   "metadata": {},
   "outputs": [
    {
     "name": "stdout",
     "output_type": "stream",
     "text": [
      "00%  10%  20%  30%  40%  50%  60%  70%  80%  90%  "
     ]
    },
    {
     "data": {
      "text/plain": [
       "<Figure size 432x288 with 0 Axes>"
      ]
     },
     "metadata": {},
     "output_type": "display_data"
    },
    {
     "data": {
      "image/png": "[encoded data removed]",
      "text/plain": [
       "<Figure size 432x288 with 2 Axes>"
      ]
     },
     "metadata": {},
     "output_type": "display_data"
    },
    {
     "data": {
      "text/plain": [
       "<Figure size 432x288 with 0 Axes>"
      ]
     },
     "metadata": {},
     "output_type": "display_data"
    },
    {
     "data": {
      "image/png": "[encoded data removed]",
      "text/plain": [
       "<Figure size 432x288 with 2 Axes>"
      ]
     },
     "metadata": {},
     "output_type": "display_data"
    }
   ],
   "source": [
    "EXPERIMENT = {\n",
    "    'num_agents': 1,        # ∈ {1,2,3}\n",
    "    'num_episodes': 5000,    # Number of episodes the experiment lasts\n",
    "    'max_steps': 30,       # Max steps per episode\n",
    "    'epsilon': {\n",
    "        'initial_value': 0.999,\n",
    "        'decay_rate_1': 0.9995,  # Decay if e >= threshold\n",
    "        'decay_rate_2': 0.995,   # Decay if e < threshold\n",
    "        'decay_rate_threshold': 0.5,\n",
    "    },\n",
    "    'alpha': 0.5, # learning rate\n",
    "    'gamma': 0.5, # dicount factor\n",
    "    'return': 100, # Return for moving into terminal state\n",
    "    'penalty': -100, # Punishment for leaving terminal state\n",
    "}\n",
    "results = perform_experiment()\n",
    "show_results(results)"
   ]
  },
  {
   "cell_type": "markdown",
   "metadata": {},
   "source": [
    "### EXP 2: 2 Agents"
   ]
  },
  {
   "cell_type": "code",
   "execution_count": 97,
   "metadata": {},
   "outputs": [
    {
     "name": "stdout",
     "output_type": "stream",
     "text": [
      "00%  10%  "
     ]
    },
    {
     "ename": "KeyboardInterrupt",
     "evalue": "",
     "output_type": "error",
     "traceback": [
      "\u001b[1;31m---------------------------------------------------------------------------\u001b[0m",
      "\u001b[1;31mKeyboardInterrupt\u001b[0m                         Traceback (most recent call last)",
      "\u001b[1;32m<ipython-input-97-6c9667fa6595>\u001b[0m in \u001b[0;36m<module>\u001b[1;34m()\u001b[0m\n\u001b[0;32m     14\u001b[0m     \u001b[1;34m'penalty'\u001b[0m\u001b[1;33m:\u001b[0m \u001b[1;33m-\u001b[0m\u001b[1;36m100\u001b[0m\u001b[1;33m,\u001b[0m \u001b[1;31m# Punishment for leaving terminal state\u001b[0m\u001b[1;33m\u001b[0m\u001b[0m\n\u001b[0;32m     15\u001b[0m }\n\u001b[1;32m---> 16\u001b[1;33m \u001b[0mresults\u001b[0m \u001b[1;33m=\u001b[0m \u001b[0mperform_experiment\u001b[0m\u001b[1;33m(\u001b[0m\u001b[1;33m)\u001b[0m\u001b[1;33m\u001b[0m\u001b[0m\n\u001b[0m\u001b[0;32m     17\u001b[0m \u001b[0mshow_results\u001b[0m\u001b[1;33m(\u001b[0m\u001b[0mresults\u001b[0m\u001b[1;33m)\u001b[0m\u001b[1;33m\u001b[0m\u001b[0m\n",
      "\u001b[1;32m<ipython-input-67-03737b6ba25c>\u001b[0m in \u001b[0;36mperform_experiment\u001b[1;34m()\u001b[0m\n\u001b[0;32m     14\u001b[0m \u001b[1;33m\u001b[0m\u001b[0m\n\u001b[0;32m     15\u001b[0m     \u001b[1;32mfor\u001b[0m \u001b[0mcurrent_episode\u001b[0m \u001b[1;32min\u001b[0m \u001b[0mrange\u001b[0m\u001b[1;33m(\u001b[0m\u001b[0mEXPERIMENT\u001b[0m\u001b[1;33m[\u001b[0m\u001b[1;34m'num_episodes'\u001b[0m\u001b[1;33m]\u001b[0m\u001b[1;33m)\u001b[0m\u001b[1;33m:\u001b[0m\u001b[1;33m\u001b[0m\u001b[0m\n\u001b[1;32m---> 16\u001b[1;33m         \u001b[0mepisode_result\u001b[0m \u001b[1;33m=\u001b[0m \u001b[0mrun_episode\u001b[0m\u001b[1;33m(\u001b[0m\u001b[0mepsilon\u001b[0m\u001b[1;33m)\u001b[0m\u001b[1;33m\u001b[0m\u001b[0m\n\u001b[0m\u001b[0;32m     17\u001b[0m         \u001b[0mresults\u001b[0m\u001b[1;33m.\u001b[0m\u001b[0mappend\u001b[0m\u001b[1;33m(\u001b[0m\u001b[1;33m{\u001b[0m\u001b[1;34m'episode'\u001b[0m\u001b[1;33m:\u001b[0m \u001b[0mcurrent_episode\u001b[0m\u001b[1;33m,\u001b[0m \u001b[1;33m**\u001b[0m\u001b[0mepisode_result\u001b[0m\u001b[1;33m}\u001b[0m\u001b[1;33m)\u001b[0m\u001b[1;33m\u001b[0m\u001b[0m\n\u001b[0;32m     18\u001b[0m         \u001b[0mepsilon\u001b[0m \u001b[1;33m=\u001b[0m \u001b[0mupdate_epsilon\u001b[0m\u001b[1;33m(\u001b[0m\u001b[0mepsilon\u001b[0m\u001b[1;33m)\u001b[0m\u001b[1;33m\u001b[0m\u001b[0m\n",
      "\u001b[1;32m<ipython-input-63-0fc69ef8f75e>\u001b[0m in \u001b[0;36mrun_episode\u001b[1;34m(epsilon)\u001b[0m\n\u001b[0;32m     12\u001b[0m \u001b[1;33m\u001b[0m\u001b[0m\n\u001b[0;32m     13\u001b[0m         \u001b[0mearned_return\u001b[0m \u001b[1;33m=\u001b[0m \u001b[0mcalculate_earned_reward\u001b[0m\u001b[1;33m(\u001b[0m\u001b[0mcurrent_state\u001b[0m\u001b[1;33m,\u001b[0m \u001b[0mnext_state\u001b[0m\u001b[1;33m,\u001b[0m \u001b[0mcurrent_agent_id\u001b[0m\u001b[1;33m)\u001b[0m \u001b[1;31m# Determine return from R matrix for the agent taking action\u001b[0m\u001b[1;33m\u001b[0m\u001b[0m\n\u001b[1;32m---> 14\u001b[1;33m         \u001b[0mupdate_q_matrix\u001b[0m\u001b[1;33m(\u001b[0m\u001b[0mcurrent_state\u001b[0m\u001b[1;33m,\u001b[0m \u001b[0mnext_state\u001b[0m\u001b[1;33m,\u001b[0m \u001b[0mcurrent_agent_id\u001b[0m\u001b[1;33m,\u001b[0m \u001b[0mearned_return\u001b[0m\u001b[1;33m)\u001b[0m \u001b[1;31m# Update Q Matrix for the agent taking action\u001b[0m\u001b[1;33m\u001b[0m\u001b[0m\n\u001b[0m\u001b[0;32m     15\u001b[0m \u001b[1;33m\u001b[0m\u001b[0m\n\u001b[0;32m     16\u001b[0m         \u001b[1;31m# Update values for next loop pass\u001b[0m\u001b[1;33m\u001b[0m\u001b[1;33m\u001b[0m\u001b[0m\n",
      "\u001b[1;32m<ipython-input-64-05713cfd01f5>\u001b[0m in \u001b[0;36mupdate_q_matrix\u001b[1;34m(current_state, next_state, current_agent_id, earned_reward)\u001b[0m\n\u001b[0;32m     15\u001b[0m \u001b[1;33m\u001b[0m\u001b[0m\n\u001b[0;32m     16\u001b[0m     \u001b[0mpossible_next_moves\u001b[0m \u001b[1;33m=\u001b[0m \u001b[0mget_available_moves\u001b[0m\u001b[1;33m(\u001b[0m\u001b[0mnext_state\u001b[0m\u001b[1;33m,\u001b[0m \u001b[0mcurrent_agent_id\u001b[0m\u001b[1;33m)\u001b[0m\u001b[1;33m\u001b[0m\u001b[0m\n\u001b[1;32m---> 17\u001b[1;33m     \u001b[0mbest_expected_return\u001b[0m \u001b[1;33m=\u001b[0m \u001b[0mmax\u001b[0m\u001b[1;33m(\u001b[0m\u001b[0mcurrent_q\u001b[0m\u001b[1;33m.\u001b[0m\u001b[0mloc\u001b[0m\u001b[1;33m[\u001b[0m\u001b[0mnext_state\u001b[0m\u001b[1;33m,\u001b[0m \u001b[0mpossible_next_moves\u001b[0m\u001b[1;33m]\u001b[0m\u001b[1;33m)\u001b[0m\u001b[1;33m\u001b[0m\u001b[0m\n\u001b[0m\u001b[0;32m     18\u001b[0m \u001b[1;33m\u001b[0m\u001b[0m\n\u001b[0;32m     19\u001b[0m     \u001b[0mnew_expected_return\u001b[0m \u001b[1;33m=\u001b[0m \u001b[0mold_expected_return\u001b[0m \u001b[1;33m+\u001b[0m \u001b[0malpha\u001b[0m \u001b[1;33m*\u001b[0m \u001b[1;33m(\u001b[0m\u001b[0mearned_reward\u001b[0m \u001b[1;33m+\u001b[0m \u001b[0mgamma\u001b[0m \u001b[1;33m*\u001b[0m \u001b[0mbest_expected_return\u001b[0m \u001b[1;33m-\u001b[0m \u001b[0mold_expected_return\u001b[0m\u001b[1;33m)\u001b[0m\u001b[1;33m\u001b[0m\u001b[0m\n",
      "\u001b[1;32m~\\Anaconda3\\lib\\site-packages\\pandas\\core\\indexing.py\u001b[0m in \u001b[0;36m__getitem__\u001b[1;34m(self, key)\u001b[0m\n\u001b[0;32m   1470\u001b[0m             \u001b[1;32mexcept\u001b[0m \u001b[1;33m(\u001b[0m\u001b[0mKeyError\u001b[0m\u001b[1;33m,\u001b[0m \u001b[0mIndexError\u001b[0m\u001b[1;33m)\u001b[0m\u001b[1;33m:\u001b[0m\u001b[1;33m\u001b[0m\u001b[0m\n\u001b[0;32m   1471\u001b[0m                 \u001b[1;32mpass\u001b[0m\u001b[1;33m\u001b[0m\u001b[0m\n\u001b[1;32m-> 1472\u001b[1;33m             \u001b[1;32mreturn\u001b[0m \u001b[0mself\u001b[0m\u001b[1;33m.\u001b[0m\u001b[0m_getitem_tuple\u001b[0m\u001b[1;33m(\u001b[0m\u001b[0mkey\u001b[0m\u001b[1;33m)\u001b[0m\u001b[1;33m\u001b[0m\u001b[0m\n\u001b[0m\u001b[0;32m   1473\u001b[0m         \u001b[1;32melse\u001b[0m\u001b[1;33m:\u001b[0m\u001b[1;33m\u001b[0m\u001b[0m\n\u001b[0;32m   1474\u001b[0m             \u001b[1;31m# we by definition only have the 0th axis\u001b[0m\u001b[1;33m\u001b[0m\u001b[1;33m\u001b[0m\u001b[0m\n",
      "\u001b[1;32m~\\Anaconda3\\lib\\site-packages\\pandas\\core\\indexing.py\u001b[0m in \u001b[0;36m_getitem_tuple\u001b[1;34m(self, tup)\u001b[0m\n\u001b[0;32m    868\u001b[0m     \u001b[1;32mdef\u001b[0m \u001b[0m_getitem_tuple\u001b[0m\u001b[1;33m(\u001b[0m\u001b[0mself\u001b[0m\u001b[1;33m,\u001b[0m \u001b[0mtup\u001b[0m\u001b[1;33m)\u001b[0m\u001b[1;33m:\u001b[0m\u001b[1;33m\u001b[0m\u001b[0m\n\u001b[0;32m    869\u001b[0m         \u001b[1;32mtry\u001b[0m\u001b[1;33m:\u001b[0m\u001b[1;33m\u001b[0m\u001b[0m\n\u001b[1;32m--> 870\u001b[1;33m             \u001b[1;32mreturn\u001b[0m \u001b[0mself\u001b[0m\u001b[1;33m.\u001b[0m\u001b[0m_getitem_lowerdim\u001b[0m\u001b[1;33m(\u001b[0m\u001b[0mtup\u001b[0m\u001b[1;33m)\u001b[0m\u001b[1;33m\u001b[0m\u001b[0m\n\u001b[0m\u001b[0;32m    871\u001b[0m         \u001b[1;32mexcept\u001b[0m \u001b[0mIndexingError\u001b[0m\u001b[1;33m:\u001b[0m\u001b[1;33m\u001b[0m\u001b[0m\n\u001b[0;32m    872\u001b[0m             \u001b[1;32mpass\u001b[0m\u001b[1;33m\u001b[0m\u001b[0m\n",
      "\u001b[1;32m~\\Anaconda3\\lib\\site-packages\\pandas\\core\\indexing.py\u001b[0m in \u001b[0;36m_getitem_lowerdim\u001b[1;34m(self, tup)\u001b[0m\n\u001b[0;32m   1025\u001b[0m                     \u001b[1;32mreturn\u001b[0m \u001b[0msection\u001b[0m\u001b[1;33m\u001b[0m\u001b[0m\n\u001b[0;32m   1026\u001b[0m                 \u001b[1;31m# This is an elided recursive call to iloc/loc/etc'\u001b[0m\u001b[1;33m\u001b[0m\u001b[1;33m\u001b[0m\u001b[0m\n\u001b[1;32m-> 1027\u001b[1;33m                 \u001b[1;32mreturn\u001b[0m \u001b[0mgetattr\u001b[0m\u001b[1;33m(\u001b[0m\u001b[0msection\u001b[0m\u001b[1;33m,\u001b[0m \u001b[0mself\u001b[0m\u001b[1;33m.\u001b[0m\u001b[0mname\u001b[0m\u001b[1;33m)\u001b[0m\u001b[1;33m[\u001b[0m\u001b[0mnew_key\u001b[0m\u001b[1;33m]\u001b[0m\u001b[1;33m\u001b[0m\u001b[0m\n\u001b[0m\u001b[0;32m   1028\u001b[0m \u001b[1;33m\u001b[0m\u001b[0m\n\u001b[0;32m   1029\u001b[0m         \u001b[1;32mraise\u001b[0m \u001b[0mIndexingError\u001b[0m\u001b[1;33m(\u001b[0m\u001b[1;34m'not applicable'\u001b[0m\u001b[1;33m)\u001b[0m\u001b[1;33m\u001b[0m\u001b[0m\n",
      "\u001b[1;32m~\\Anaconda3\\lib\\site-packages\\pandas\\core\\indexing.py\u001b[0m in \u001b[0;36m__getitem__\u001b[1;34m(self, key)\u001b[0m\n\u001b[0;32m   1476\u001b[0m \u001b[1;33m\u001b[0m\u001b[0m\n\u001b[0;32m   1477\u001b[0m             \u001b[0mmaybe_callable\u001b[0m \u001b[1;33m=\u001b[0m \u001b[0mcom\u001b[0m\u001b[1;33m.\u001b[0m\u001b[0m_apply_if_callable\u001b[0m\u001b[1;33m(\u001b[0m\u001b[0mkey\u001b[0m\u001b[1;33m,\u001b[0m \u001b[0mself\u001b[0m\u001b[1;33m.\u001b[0m\u001b[0mobj\u001b[0m\u001b[1;33m)\u001b[0m\u001b[1;33m\u001b[0m\u001b[0m\n\u001b[1;32m-> 1478\u001b[1;33m             \u001b[1;32mreturn\u001b[0m \u001b[0mself\u001b[0m\u001b[1;33m.\u001b[0m\u001b[0m_getitem_axis\u001b[0m\u001b[1;33m(\u001b[0m\u001b[0mmaybe_callable\u001b[0m\u001b[1;33m,\u001b[0m \u001b[0maxis\u001b[0m\u001b[1;33m=\u001b[0m\u001b[0maxis\u001b[0m\u001b[1;33m)\u001b[0m\u001b[1;33m\u001b[0m\u001b[0m\n\u001b[0m\u001b[0;32m   1479\u001b[0m \u001b[1;33m\u001b[0m\u001b[0m\n\u001b[0;32m   1480\u001b[0m     \u001b[1;32mdef\u001b[0m \u001b[0m_is_scalar_access\u001b[0m\u001b[1;33m(\u001b[0m\u001b[0mself\u001b[0m\u001b[1;33m,\u001b[0m \u001b[0mkey\u001b[0m\u001b[1;33m)\u001b[0m\u001b[1;33m:\u001b[0m\u001b[1;33m\u001b[0m\u001b[0m\n",
      "\u001b[1;32m~\\Anaconda3\\lib\\site-packages\\pandas\\core\\indexing.py\u001b[0m in \u001b[0;36m_getitem_axis\u001b[1;34m(self, key, axis)\u001b[0m\n\u001b[0;32m   1899\u001b[0m                     \u001b[1;32mraise\u001b[0m \u001b[0mValueError\u001b[0m\u001b[1;33m(\u001b[0m\u001b[1;34m'Cannot index with multidimensional key'\u001b[0m\u001b[1;33m)\u001b[0m\u001b[1;33m\u001b[0m\u001b[0m\n\u001b[0;32m   1900\u001b[0m \u001b[1;33m\u001b[0m\u001b[0m\n\u001b[1;32m-> 1901\u001b[1;33m                 \u001b[1;32mreturn\u001b[0m \u001b[0mself\u001b[0m\u001b[1;33m.\u001b[0m\u001b[0m_getitem_iterable\u001b[0m\u001b[1;33m(\u001b[0m\u001b[0mkey\u001b[0m\u001b[1;33m,\u001b[0m \u001b[0maxis\u001b[0m\u001b[1;33m=\u001b[0m\u001b[0maxis\u001b[0m\u001b[1;33m)\u001b[0m\u001b[1;33m\u001b[0m\u001b[0m\n\u001b[0m\u001b[0;32m   1902\u001b[0m \u001b[1;33m\u001b[0m\u001b[0m\n\u001b[0;32m   1903\u001b[0m             \u001b[1;31m# nested tuple slicing\u001b[0m\u001b[1;33m\u001b[0m\u001b[1;33m\u001b[0m\u001b[0m\n",
      "\u001b[1;32m~\\Anaconda3\\lib\\site-packages\\pandas\\core\\indexing.py\u001b[0m in \u001b[0;36m_getitem_iterable\u001b[1;34m(self, key, axis)\u001b[0m\n\u001b[0;32m   1140\u001b[0m             \u001b[1;31m# existing labels are unique and indexer are unique\u001b[0m\u001b[1;33m\u001b[0m\u001b[1;33m\u001b[0m\u001b[0m\n\u001b[0;32m   1141\u001b[0m             \u001b[1;32mif\u001b[0m \u001b[0mlabels\u001b[0m\u001b[1;33m.\u001b[0m\u001b[0mis_unique\u001b[0m \u001b[1;32mand\u001b[0m \u001b[0mIndex\u001b[0m\u001b[1;33m(\u001b[0m\u001b[0mkeyarr\u001b[0m\u001b[1;33m)\u001b[0m\u001b[1;33m.\u001b[0m\u001b[0mis_unique\u001b[0m\u001b[1;33m:\u001b[0m\u001b[1;33m\u001b[0m\u001b[0m\n\u001b[1;32m-> 1142\u001b[1;33m                 \u001b[0mindexer\u001b[0m \u001b[1;33m=\u001b[0m \u001b[0max\u001b[0m\u001b[1;33m.\u001b[0m\u001b[0mget_indexer_for\u001b[0m\u001b[1;33m(\u001b[0m\u001b[0mkey\u001b[0m\u001b[1;33m)\u001b[0m\u001b[1;33m\u001b[0m\u001b[0m\n\u001b[0m\u001b[0;32m   1143\u001b[0m                 \u001b[0mself\u001b[0m\u001b[1;33m.\u001b[0m\u001b[0m_validate_read_indexer\u001b[0m\u001b[1;33m(\u001b[0m\u001b[0mkey\u001b[0m\u001b[1;33m,\u001b[0m \u001b[0mindexer\u001b[0m\u001b[1;33m,\u001b[0m \u001b[0maxis\u001b[0m\u001b[1;33m)\u001b[0m\u001b[1;33m\u001b[0m\u001b[0m\n\u001b[0;32m   1144\u001b[0m \u001b[1;33m\u001b[0m\u001b[0m\n",
      "\u001b[1;32m~\\Anaconda3\\lib\\site-packages\\pandas\\core\\indexes\\base.py\u001b[0m in \u001b[0;36mget_indexer_for\u001b[1;34m(self, target, **kwargs)\u001b[0m\n\u001b[0;32m   3366\u001b[0m         \"\"\"\n\u001b[0;32m   3367\u001b[0m         \u001b[1;32mif\u001b[0m \u001b[0mself\u001b[0m\u001b[1;33m.\u001b[0m\u001b[0mis_unique\u001b[0m\u001b[1;33m:\u001b[0m\u001b[1;33m\u001b[0m\u001b[0m\n\u001b[1;32m-> 3368\u001b[1;33m             \u001b[1;32mreturn\u001b[0m \u001b[0mself\u001b[0m\u001b[1;33m.\u001b[0m\u001b[0mget_indexer\u001b[0m\u001b[1;33m(\u001b[0m\u001b[0mtarget\u001b[0m\u001b[1;33m,\u001b[0m \u001b[1;33m**\u001b[0m\u001b[0mkwargs\u001b[0m\u001b[1;33m)\u001b[0m\u001b[1;33m\u001b[0m\u001b[0m\n\u001b[0m\u001b[0;32m   3369\u001b[0m         \u001b[0mindexer\u001b[0m\u001b[1;33m,\u001b[0m \u001b[0m_\u001b[0m \u001b[1;33m=\u001b[0m \u001b[0mself\u001b[0m\u001b[1;33m.\u001b[0m\u001b[0mget_indexer_non_unique\u001b[0m\u001b[1;33m(\u001b[0m\u001b[0mtarget\u001b[0m\u001b[1;33m,\u001b[0m \u001b[1;33m**\u001b[0m\u001b[0mkwargs\u001b[0m\u001b[1;33m)\u001b[0m\u001b[1;33m\u001b[0m\u001b[0m\n\u001b[0;32m   3370\u001b[0m         \u001b[1;32mreturn\u001b[0m \u001b[0mindexer\u001b[0m\u001b[1;33m\u001b[0m\u001b[0m\n",
      "\u001b[1;32m~\\Anaconda3\\lib\\site-packages\\pandas\\core\\indexes\\base.py\u001b[0m in \u001b[0;36mget_indexer\u001b[1;34m(self, target, method, limit, tolerance)\u001b[0m\n\u001b[0;32m   3205\u001b[0m     \u001b[1;32mdef\u001b[0m \u001b[0mget_indexer\u001b[0m\u001b[1;33m(\u001b[0m\u001b[0mself\u001b[0m\u001b[1;33m,\u001b[0m \u001b[0mtarget\u001b[0m\u001b[1;33m,\u001b[0m \u001b[0mmethod\u001b[0m\u001b[1;33m=\u001b[0m\u001b[1;32mNone\u001b[0m\u001b[1;33m,\u001b[0m \u001b[0mlimit\u001b[0m\u001b[1;33m=\u001b[0m\u001b[1;32mNone\u001b[0m\u001b[1;33m,\u001b[0m \u001b[0mtolerance\u001b[0m\u001b[1;33m=\u001b[0m\u001b[1;32mNone\u001b[0m\u001b[1;33m)\u001b[0m\u001b[1;33m:\u001b[0m\u001b[1;33m\u001b[0m\u001b[0m\n\u001b[0;32m   3206\u001b[0m         \u001b[0mmethod\u001b[0m \u001b[1;33m=\u001b[0m \u001b[0mmissing\u001b[0m\u001b[1;33m.\u001b[0m\u001b[0mclean_reindex_fill_method\u001b[0m\u001b[1;33m(\u001b[0m\u001b[0mmethod\u001b[0m\u001b[1;33m)\u001b[0m\u001b[1;33m\u001b[0m\u001b[0m\n\u001b[1;32m-> 3207\u001b[1;33m         \u001b[0mtarget\u001b[0m \u001b[1;33m=\u001b[0m \u001b[0m_ensure_index\u001b[0m\u001b[1;33m(\u001b[0m\u001b[0mtarget\u001b[0m\u001b[1;33m)\u001b[0m\u001b[1;33m\u001b[0m\u001b[0m\n\u001b[0m\u001b[0;32m   3208\u001b[0m         \u001b[1;32mif\u001b[0m \u001b[0mtolerance\u001b[0m \u001b[1;32mis\u001b[0m \u001b[1;32mnot\u001b[0m \u001b[1;32mNone\u001b[0m\u001b[1;33m:\u001b[0m\u001b[1;33m\u001b[0m\u001b[0m\n\u001b[0;32m   3209\u001b[0m             \u001b[0mtolerance\u001b[0m \u001b[1;33m=\u001b[0m \u001b[0mself\u001b[0m\u001b[1;33m.\u001b[0m\u001b[0m_convert_tolerance\u001b[0m\u001b[1;33m(\u001b[0m\u001b[0mtolerance\u001b[0m\u001b[1;33m,\u001b[0m \u001b[0mtarget\u001b[0m\u001b[1;33m)\u001b[0m\u001b[1;33m\u001b[0m\u001b[0m\n",
      "\u001b[1;32m~\\Anaconda3\\lib\\site-packages\\pandas\\core\\indexes\\base.py\u001b[0m in \u001b[0;36m_ensure_index\u001b[1;34m(index_like, copy)\u001b[0m\n\u001b[0;32m   4941\u001b[0m             \u001b[0mindex_like\u001b[0m \u001b[1;33m=\u001b[0m \u001b[0mlist\u001b[0m\u001b[1;33m(\u001b[0m\u001b[0mindex_like\u001b[0m\u001b[1;33m)\u001b[0m\u001b[1;33m\u001b[0m\u001b[0m\n\u001b[0;32m   4942\u001b[0m \u001b[1;33m\u001b[0m\u001b[0m\n\u001b[1;32m-> 4943\u001b[1;33m         \u001b[0mconverted\u001b[0m\u001b[1;33m,\u001b[0m \u001b[0mall_arrays\u001b[0m \u001b[1;33m=\u001b[0m \u001b[0mlib\u001b[0m\u001b[1;33m.\u001b[0m\u001b[0mclean_index_list\u001b[0m\u001b[1;33m(\u001b[0m\u001b[0mindex_like\u001b[0m\u001b[1;33m)\u001b[0m\u001b[1;33m\u001b[0m\u001b[0m\n\u001b[0m\u001b[0;32m   4944\u001b[0m \u001b[1;33m\u001b[0m\u001b[0m\n\u001b[0;32m   4945\u001b[0m         \u001b[1;32mif\u001b[0m \u001b[0mlen\u001b[0m\u001b[1;33m(\u001b[0m\u001b[0mconverted\u001b[0m\u001b[1;33m)\u001b[0m \u001b[1;33m>\u001b[0m \u001b[1;36m0\u001b[0m \u001b[1;32mand\u001b[0m \u001b[0mall_arrays\u001b[0m\u001b[1;33m:\u001b[0m\u001b[1;33m\u001b[0m\u001b[0m\n",
      "\u001b[1;32mpandas\\_libs\\lib.pyx\u001b[0m in \u001b[0;36mpandas._libs.lib.clean_index_list\u001b[1;34m()\u001b[0m\n",
      "\u001b[1;32mpandas/_libs/src\\inference.pyx\u001b[0m in \u001b[0;36mpandas._libs.lib.infer_dtype\u001b[1;34m()\u001b[0m\n",
      "\u001b[1;32m~\\Anaconda3\\lib\\importlib\\_bootstrap.py\u001b[0m in \u001b[0;36m_find_and_load\u001b[1;34m(name, import_)\u001b[0m\n",
      "\u001b[1;32m~\\Anaconda3\\lib\\importlib\\_bootstrap.py\u001b[0m in \u001b[0;36m_find_and_load_unlocked\u001b[1;34m(name, import_)\u001b[0m\n",
      "\u001b[1;32m~\\Anaconda3\\lib\\importlib\\_bootstrap.py\u001b[0m in \u001b[0;36m_find_spec\u001b[1;34m(name, path, target)\u001b[0m\n",
      "\u001b[1;32m~\\Anaconda3\\lib\\importlib\\_bootstrap_external.py\u001b[0m in \u001b[0;36mfind_spec\u001b[1;34m(cls, fullname, path, target)\u001b[0m\n",
      "\u001b[1;32m~\\Anaconda3\\lib\\importlib\\_bootstrap_external.py\u001b[0m in \u001b[0;36m_get_spec\u001b[1;34m(cls, fullname, path, target)\u001b[0m\n",
      "\u001b[1;32m~\\Anaconda3\\lib\\importlib\\_bootstrap_external.py\u001b[0m in \u001b[0;36mfind_spec\u001b[1;34m(self, fullname, target)\u001b[0m\n",
      "\u001b[1;32m~\\Anaconda3\\lib\\importlib\\_bootstrap_external.py\u001b[0m in \u001b[0;36m_path_stat\u001b[1;34m(path)\u001b[0m\n",
      "\u001b[1;31mKeyboardInterrupt\u001b[0m: "
     ]
    }
   ],
   "source": [
    "EXPERIMENT = {\n",
    "    'num_agents': 2,        # ∈ {1,2,3}\n",
    "    'num_episodes': 10000,    # Number of episodes the experiment lasts\n",
    "    'max_steps': 30,       # Max steps per episode\n",
    "    'epsilon': {\n",
    "        'initial_value': 0.999,\n",
    "        'decay_rate_1': 0.999,  # Decay if e >= threshold\n",
    "        'decay_rate_2': 0.99,   # Decay if e < threshold\n",
    "        'decay_rate_threshold': 0.5,\n",
    "    },\n",
    "    'alpha': 0.5, # learning rate\n",
    "    'gamma': 0.5, # dicount factor\n",
    "    'return': 100, # Return for moving into terminal state\n",
    "    'penalty': -100, # Punishment for leaving terminal state\n",
    "}\n",
    "results = perform_experiment()\n",
    "show_results(results)"
   ]
  },
  {
   "cell_type": "code",
   "execution_count": null,
   "metadata": {},
   "outputs": [],
   "source": []
  },
  {
   "cell_type": "code",
   "execution_count": null,
   "metadata": {},
   "outputs": [],
   "source": []
  },
  {
   "cell_type": "code",
   "execution_count": null,
   "metadata": {},
   "outputs": [],
   "source": []
  },
  {
   "cell_type": "code",
   "execution_count": null,
   "metadata": {},
   "outputs": [],
   "source": []
  },
  {
   "cell_type": "code",
   "execution_count": null,
   "metadata": {},
   "outputs": [],
   "source": []
  },
  {
   "cell_type": "code",
   "execution_count": null,
   "metadata": {},
   "outputs": [],
   "source": []
  },
  {
   "cell_type": "code",
   "execution_count": null,
   "metadata": {},
   "outputs": [],
   "source": []
  },
  {
   "cell_type": "code",
   "execution_count": null,
   "metadata": {},
   "outputs": [],
   "source": []
  },
  {
   "cell_type": "code",
   "execution_count": 20,
   "metadata": {},
   "outputs": [
    {
     "name": "stdout",
     "output_type": "stream",
     "text": [
      "location: 30 => (4, 2)\n",
      "location: (4, 2) => 30\n"
     ]
    }
   ],
   "source": [
    "# def location_int_to_tuple(location):\n",
    "#     if location >= BOARD_SIZE[0]*BOARD_SIZE[1]:\n",
    "#         raise ValueError('location outside maze')\n",
    "#     row = int(location/BOARD_WIDTH)\n",
    "#     col = int(location%BOARD_WIDTH)\n",
    "#     return (row, col)\n",
    "\n",
    "# print('location: {} => {}'.format(30, location_int_to_tuple(30)))\n",
    "\n",
    "# def location_tuple_to_int(location):\n",
    "#     (row, col) = location\n",
    "#     location_int = (row*BOARD_WIDTH+col)\n",
    "#     if location_int >= BOARD_SIZE[0]*BOARD_SIZE[1]:\n",
    "#         raise ValueError('location outside maze')\n",
    "#     return location_int\n",
    "\n",
    "# print('location: {} => {}'.format((4,2), location_tuple_to_int((4,2))))\n",
    "\n",
    "\n",
    "# def get_future_position_for_action(previous_location, action):\n",
    "#     (current_row, current_col) = location_int_to_tuple(previous_location)\n",
    "    \n",
    "#     if (action == ACTION.UP):\n",
    "#         (next_row, next_col) = (current_row-1, current_col)\n",
    "#     elif (action == ACTION.RIGHT):\n",
    "#         (next_row, next_col) = (current_row, current_col+1)\n",
    "#     elif (action == ACTION.DOWN):\n",
    "#         (next_row, next_col) = (current_row+1, current_col)\n",
    "#     elif (action == ACTION.LEFT):\n",
    "#         (next_row, next_col) = (current_row, current_col-1)\n",
    "    \n",
    "# #     If out of bounds, remain in the same place.\n",
    "#     if (\n",
    "#         next_row < 0 \n",
    "#         or next_row >= BOARD_HEIGHT \n",
    "#         or next_col < 0 \n",
    "#         or next_col >= BOARD_WIDTH\n",
    "#     ):\n",
    "#         (next_row, next_col) = (current_row, current_col)"
   ]
  },
  {
   "cell_type": "code",
   "execution_count": 502,
   "metadata": {},
   "outputs": [
    {
     "data": {
      "text/plain": [
       "100.0"
      ]
     },
     "execution_count": 502,
     "metadata": {},
     "output_type": "execute_result"
    }
   ],
   "source": [
    "# test_r = generate_reward_matrix(1, 1)\n",
    "# c = '0000001'\n",
    "# n = ['0000001', '0000010']\n",
    "# max(test_r.loc[c, n])"
   ]
  }
 ],
 "metadata": {
  "kernelspec": {
   "display_name": "Python 3",
   "language": "python",
   "name": "python3"
  },
  "language_info": {
   "codemirror_mode": {
    "name": "ipython",
    "version": 3
   },
   "file_extension": ".py",
   "mimetype": "text/x-python",
   "name": "python",
   "nbconvert_exporter": "python",
   "pygments_lexer": "ipython3",
   "version": "3.6.5"
  }
 },
 "nbformat": 4,
 "nbformat_minor": 2
}
